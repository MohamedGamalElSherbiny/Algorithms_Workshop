{
 "cells": [
  {
   "cell_type": "markdown",
   "id": "39c75422",
   "metadata": {},
   "source": [
    "# Merge Sort:"
   ]
  },
  {
   "cell_type": "markdown",
   "id": "bb182482",
   "metadata": {},
   "source": [
    "## Using For loop:"
   ]
  },
  {
   "cell_type": "code",
   "execution_count": 1,
   "id": "a79c81ce",
   "metadata": {},
   "outputs": [],
   "source": [
    "def merge_sort(arr):\n",
    "    \"\"\"\n",
    "    An Algorithmic function that returns the sorted array\n",
    "    \n",
    "    Parameters:\n",
    "        arr : list\n",
    "              A list of unsorted integers\n",
    "    Returns:\n",
    "        arr : list\n",
    "              A list of sorted integers\n",
    "    See Also:\n",
    "    \n",
    "        https://en.wikipedia.org/wiki/Merge_sort\n",
    "        \n",
    "        This algorithm was developed to return a sorted list of integers in ascending order.\n",
    "        \n",
    "        It uses Divide and Conquer Algorithm with complexity = O(n logn)\n",
    "        \n",
    "        In this function the for loop is used.\n",
    "    \"\"\"\n",
    "    if len(arr) > 1:\n",
    "        mid = len(arr) // 2\n",
    "        left_array = arr[:mid]\n",
    "        right_array = arr[mid:]\n",
    "        merge_sort_while(left_array)\n",
    "        merge_sort_while(right_array)\n",
    "        i = j = k = 0\n",
    "        i = j = k = 0\n",
    "        for _ in range(len(left_array) + len(right_array)):\n",
    "            if i == len(left_array):\n",
    "                arr[k] = right_array[j]\n",
    "                j += 1\n",
    "                k += 1\n",
    "            elif j == len(right_array):\n",
    "                arr[k] = left_array[i]\n",
    "                i += 1\n",
    "                k += 1\n",
    "            else:\n",
    "                if left_array[i] < right_array[j]:\n",
    "                    arr[k] = left_array[i]\n",
    "                    i += 1\n",
    "                    k += 1\n",
    "                elif left_array[i] > right_array[j]:\n",
    "                    arr[k] = right_array[j]\n",
    "                    j += 1\n",
    "                    k += 1\n",
    "    return arr"
   ]
  },
  {
   "cell_type": "markdown",
   "id": "8c588be4",
   "metadata": {},
   "source": [
    "## Using While loop:"
   ]
  },
  {
   "cell_type": "code",
   "execution_count": 2,
   "id": "3f9fcdc9",
   "metadata": {},
   "outputs": [],
   "source": [
    "def merge_sort_while(arr):\n",
    "    \"\"\"\n",
    "    An Algorithmic function that returns the sorted array\n",
    "    \n",
    "    Parameters:\n",
    "        arr : list\n",
    "              A list of unsorted integers\n",
    "    Returns:\n",
    "        arr : list\n",
    "              A list of sorted integers\n",
    "    See Also:\n",
    "    \n",
    "        https://en.wikipedia.org/wiki/Merge_sort\n",
    "        \n",
    "        This algorithm was developed to return a sorted list of integers in ascending order.\n",
    "        \n",
    "        It uses Divide and Conquer Algorithm with complexity = O(n logn)\n",
    "        \n",
    "        In this function the while loop is used.\n",
    "    \"\"\"\n",
    "    if len(arr) > 1:\n",
    "        mid = len(arr) // 2\n",
    "        left_array = arr[:mid]\n",
    "        right_array = arr[mid:]\n",
    "        merge_sort_while(left_array)\n",
    "        merge_sort_while(right_array)\n",
    "        i = j = k = 0\n",
    "        while len(left_array) > i and len(right_array) > j:\n",
    "            if left_array[i] < right_array[j]:\n",
    "                arr[k] = left_array[i]\n",
    "                i += 1\n",
    "            else:\n",
    "                arr[k] = right_array[j]\n",
    "                j += 1\n",
    "            k += 1\n",
    "        while len(left_array) > i:\n",
    "            arr[k] = left_array[i]\n",
    "            i += 1\n",
    "            k += 1\n",
    "        while len(right_array) > j:\n",
    "            arr[k] = right_array[j]\n",
    "            j += 1\n",
    "            k += 1\n",
    "    return arr"
   ]
  },
  {
   "cell_type": "code",
   "execution_count": 3,
   "id": "589e8827",
   "metadata": {},
   "outputs": [
    {
     "data": {
      "text/plain": [
       "[0, 1, 3, 4, 7, 8, 9]"
      ]
     },
     "execution_count": 3,
     "metadata": {},
     "output_type": "execute_result"
    }
   ],
   "source": [
    "merge_sort_while([3,8,1,0,4,9,7])"
   ]
  },
  {
   "cell_type": "code",
   "execution_count": 4,
   "id": "7b5dc5e5",
   "metadata": {},
   "outputs": [
    {
     "data": {
      "text/plain": [
       "[0, 1, 3, 4, 7, 8, 9]"
      ]
     },
     "execution_count": 4,
     "metadata": {},
     "output_type": "execute_result"
    }
   ],
   "source": [
    "merge_sort([3,8,1,0,4,9,7])"
   ]
  }
 ],
 "metadata": {
  "kernelspec": {
   "display_name": "Python 3",
   "language": "python",
   "name": "python3"
  },
  "language_info": {
   "codemirror_mode": {
    "name": "ipython",
    "version": 3
   },
   "file_extension": ".py",
   "mimetype": "text/x-python",
   "name": "python",
   "nbconvert_exporter": "python",
   "pygments_lexer": "ipython3",
   "version": "3.8.2"
  }
 },
 "nbformat": 4,
 "nbformat_minor": 5
}
