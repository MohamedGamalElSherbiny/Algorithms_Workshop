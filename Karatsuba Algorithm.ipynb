{
 "cells": [
  {
   "cell_type": "code",
   "execution_count": 83,
   "id": "e4df897f",
   "metadata": {},
   "outputs": [],
   "source": [
    "def karatsuba_algorithm(f_num, s_num):\n",
    "    \"\"\"\n",
    "    An Algorithmic function that returns the multiplication between two numbers\n",
    "    \n",
    "    Parameters:\n",
    "        f_num : int\n",
    "                The first number\n",
    "        s_num : int\n",
    "                The second number\n",
    "    Returns:\n",
    "        product : int\n",
    "                  The product between two numbers\n",
    "    See Also:\n",
    "    \n",
    "        https://en.wikipedia.org/wiki/Karatsuba_algorithm\n",
    "        \n",
    "        This algorithm was developed to get the multiplication between two numbers using only\n",
    "        3 multiplication instead of the ordinary 4 time multiplication concept.\n",
    "        \n",
    "        It uses Divide and Conquer Algorithm with complexity = O(n)\n",
    "    \"\"\"\n",
    "    if f_num < 10 or s_num < 10:\n",
    "        return f_num * s_num\n",
    "    else:\n",
    "        n = max(len(str(f_num)), len(str(s_num))) // 2\n",
    "        a = f_num // 10**(n)\n",
    "        #print(a)\n",
    "        b = f_num % 10**(n)\n",
    "        #print(b)\n",
    "        c = s_num // 10**(n)\n",
    "        #print(c)\n",
    "        d = s_num % 10**(n)\n",
    "        #print(d)\n",
    "        \n",
    "        ac = karatsuba_algorithm(a, c)\n",
    "        bd = karatsuba_algorithm(b,d)\n",
    "        a_plus_b_multi_c_plus_d = karatsuba_algorithm(a+b, c+d) - ac - bd\n",
    "        \n",
    "        product = (ac * 10**(2 * n)) + (a_plus_b_multi_c_plus_d * 10**(n)) + bd\n",
    "        return product"
   ]
  },
  {
   "cell_type": "code",
   "execution_count": 84,
   "id": "c0b8326c",
   "metadata": {},
   "outputs": [
    {
     "data": {
      "text/plain": [
       "7006652"
      ]
     },
     "execution_count": 84,
     "metadata": {},
     "output_type": "execute_result"
    }
   ],
   "source": [
    "karatsuba_algorithm(5678,1234)"
   ]
  },
  {
   "cell_type": "code",
   "execution_count": 79,
   "id": "86cc0b74",
   "metadata": {},
   "outputs": [
    {
     "data": {
      "text/plain": [
       "8539734222673567065463550869546574495034888535765114961879601127067743044893204848617875072216249073013374895871952806582723184"
      ]
     },
     "execution_count": 79,
     "metadata": {},
     "output_type": "execute_result"
    }
   ],
   "source": [
    "x = 3141592653589793238462643383279502884197169399375105820974944592\n",
    "y = 2718281828459045235360287471352662497757247093699959574966967627\n",
    "karatsuba_algorithm(x, y)"
   ]
  },
  {
   "cell_type": "code",
   "execution_count": 80,
   "id": "8fab38b4",
   "metadata": {},
   "outputs": [
    {
     "data": {
      "text/plain": [
       "42435"
      ]
     },
     "execution_count": 80,
     "metadata": {},
     "output_type": "execute_result"
    }
   ],
   "source": [
    "karatsuba_algorithm(123,345)"
   ]
  }
 ],
 "metadata": {
  "kernelspec": {
   "display_name": "Python 3",
   "language": "python",
   "name": "python3"
  },
  "language_info": {
   "codemirror_mode": {
    "name": "ipython",
    "version": 3
   },
   "file_extension": ".py",
   "mimetype": "text/x-python",
   "name": "python",
   "nbconvert_exporter": "python",
   "pygments_lexer": "ipython3",
   "version": "3.8.2"
  }
 },
 "nbformat": 4,
 "nbformat_minor": 5
}
